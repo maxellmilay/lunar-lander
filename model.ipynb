{
 "cells": [
  {
   "cell_type": "markdown",
   "metadata": {},
   "source": [
    "# Lunar Lander"
   ]
  },
  {
   "cell_type": "markdown",
   "metadata": {},
   "source": [
    "## Install Packages"
   ]
  },
  {
   "cell_type": "code",
   "execution_count": 1,
   "metadata": {},
   "outputs": [
    {
     "name": "stdout",
     "output_type": "stream",
     "text": [
      "Requirement already satisfied: tensorflow in /home/mirai/.pyenv/versions/3.12.0/lib/python3.12/site-packages (2.16.1)\n",
      "Requirement already satisfied: stable-baselines3 in /home/mirai/.pyenv/versions/3.12.0/lib/python3.12/site-packages (2.3.2)\n",
      "Requirement already satisfied: gymnasium in /home/mirai/.pyenv/versions/3.12.0/lib/python3.12/site-packages (0.29.1)\n",
      "Requirement already satisfied: absl-py>=1.0.0 in /home/mirai/.pyenv/versions/3.12.0/lib/python3.12/site-packages (from tensorflow) (2.1.0)\n",
      "Requirement already satisfied: astunparse>=1.6.0 in /home/mirai/.pyenv/versions/3.12.0/lib/python3.12/site-packages (from tensorflow) (1.6.3)\n",
      "Requirement already satisfied: flatbuffers>=23.5.26 in /home/mirai/.pyenv/versions/3.12.0/lib/python3.12/site-packages (from tensorflow) (24.3.25)\n",
      "Requirement already satisfied: gast!=0.5.0,!=0.5.1,!=0.5.2,>=0.2.1 in /home/mirai/.pyenv/versions/3.12.0/lib/python3.12/site-packages (from tensorflow) (0.5.4)\n",
      "Requirement already satisfied: google-pasta>=0.1.1 in /home/mirai/.pyenv/versions/3.12.0/lib/python3.12/site-packages (from tensorflow) (0.2.0)\n",
      "Requirement already satisfied: h5py>=3.10.0 in /home/mirai/.pyenv/versions/3.12.0/lib/python3.12/site-packages (from tensorflow) (3.11.0)\n",
      "Requirement already satisfied: libclang>=13.0.0 in /home/mirai/.pyenv/versions/3.12.0/lib/python3.12/site-packages (from tensorflow) (18.1.1)\n",
      "Requirement already satisfied: ml-dtypes~=0.3.1 in /home/mirai/.pyenv/versions/3.12.0/lib/python3.12/site-packages (from tensorflow) (0.3.2)\n",
      "Requirement already satisfied: opt-einsum>=2.3.2 in /home/mirai/.pyenv/versions/3.12.0/lib/python3.12/site-packages (from tensorflow) (3.3.0)\n",
      "Requirement already satisfied: packaging in /home/mirai/.pyenv/versions/3.12.0/lib/python3.12/site-packages (from tensorflow) (24.0)\n",
      "Requirement already satisfied: protobuf!=4.21.0,!=4.21.1,!=4.21.2,!=4.21.3,!=4.21.4,!=4.21.5,<5.0.0dev,>=3.20.3 in /home/mirai/.pyenv/versions/3.12.0/lib/python3.12/site-packages (from tensorflow) (4.25.3)\n",
      "Requirement already satisfied: requests<3,>=2.21.0 in /home/mirai/.pyenv/versions/3.12.0/lib/python3.12/site-packages (from tensorflow) (2.31.0)\n",
      "Requirement already satisfied: setuptools in /home/mirai/.pyenv/versions/3.12.0/lib/python3.12/site-packages (from tensorflow) (69.5.1)\n",
      "Requirement already satisfied: six>=1.12.0 in /home/mirai/.pyenv/versions/3.12.0/lib/python3.12/site-packages (from tensorflow) (1.16.0)\n",
      "Requirement already satisfied: termcolor>=1.1.0 in /home/mirai/.pyenv/versions/3.12.0/lib/python3.12/site-packages (from tensorflow) (2.4.0)\n",
      "Requirement already satisfied: typing-extensions>=3.6.6 in /home/mirai/.pyenv/versions/3.12.0/lib/python3.12/site-packages (from tensorflow) (4.11.0)\n",
      "Requirement already satisfied: wrapt>=1.11.0 in /home/mirai/.pyenv/versions/3.12.0/lib/python3.12/site-packages (from tensorflow) (1.16.0)\n",
      "Requirement already satisfied: grpcio<2.0,>=1.24.3 in /home/mirai/.pyenv/versions/3.12.0/lib/python3.12/site-packages (from tensorflow) (1.63.0)\n",
      "Requirement already satisfied: tensorboard<2.17,>=2.16 in /home/mirai/.pyenv/versions/3.12.0/lib/python3.12/site-packages (from tensorflow) (2.16.2)\n",
      "Requirement already satisfied: keras>=3.0.0 in /home/mirai/.pyenv/versions/3.12.0/lib/python3.12/site-packages (from tensorflow) (3.3.3)\n",
      "Requirement already satisfied: numpy<2.0.0,>=1.26.0 in /home/mirai/.pyenv/versions/3.12.0/lib/python3.12/site-packages (from tensorflow) (1.26.4)\n",
      "Requirement already satisfied: torch>=1.13 in /home/mirai/.pyenv/versions/3.12.0/lib/python3.12/site-packages (from stable-baselines3) (2.3.0)\n",
      "Requirement already satisfied: cloudpickle in /home/mirai/.pyenv/versions/3.12.0/lib/python3.12/site-packages (from stable-baselines3) (3.0.0)\n",
      "Requirement already satisfied: pandas in /home/mirai/.pyenv/versions/3.12.0/lib/python3.12/site-packages (from stable-baselines3) (2.2.2)\n",
      "Requirement already satisfied: matplotlib in /home/mirai/.pyenv/versions/3.12.0/lib/python3.12/site-packages (from stable-baselines3) (3.8.4)\n",
      "Requirement already satisfied: farama-notifications>=0.0.1 in /home/mirai/.pyenv/versions/3.12.0/lib/python3.12/site-packages (from gymnasium) (0.0.4)\n",
      "Requirement already satisfied: box2d-py==2.3.5 in /home/mirai/.pyenv/versions/3.12.0/lib/python3.12/site-packages (from gymnasium[box2d]) (2.3.5)\n",
      "Requirement already satisfied: pygame>=2.1.3 in /home/mirai/.pyenv/versions/3.12.0/lib/python3.12/site-packages (from gymnasium[box2d]) (2.5.2)\n",
      "Requirement already satisfied: swig==4.* in /home/mirai/.pyenv/versions/3.12.0/lib/python3.12/site-packages (from gymnasium[box2d]) (4.2.1)\n",
      "Requirement already satisfied: wheel<1.0,>=0.23.0 in /home/mirai/.pyenv/versions/3.12.0/lib/python3.12/site-packages (from astunparse>=1.6.0->tensorflow) (0.43.0)\n",
      "Requirement already satisfied: rich in /home/mirai/.pyenv/versions/3.12.0/lib/python3.12/site-packages (from keras>=3.0.0->tensorflow) (13.7.1)\n",
      "Requirement already satisfied: namex in /home/mirai/.pyenv/versions/3.12.0/lib/python3.12/site-packages (from keras>=3.0.0->tensorflow) (0.0.8)\n",
      "Requirement already satisfied: optree in /home/mirai/.pyenv/versions/3.12.0/lib/python3.12/site-packages (from keras>=3.0.0->tensorflow) (0.11.0)\n",
      "Requirement already satisfied: charset-normalizer<4,>=2 in /home/mirai/.pyenv/versions/3.12.0/lib/python3.12/site-packages (from requests<3,>=2.21.0->tensorflow) (3.3.2)\n",
      "Requirement already satisfied: idna<4,>=2.5 in /home/mirai/.pyenv/versions/3.12.0/lib/python3.12/site-packages (from requests<3,>=2.21.0->tensorflow) (3.7)\n",
      "Requirement already satisfied: urllib3<3,>=1.21.1 in /home/mirai/.pyenv/versions/3.12.0/lib/python3.12/site-packages (from requests<3,>=2.21.0->tensorflow) (2.2.1)\n",
      "Requirement already satisfied: certifi>=2017.4.17 in /home/mirai/.pyenv/versions/3.12.0/lib/python3.12/site-packages (from requests<3,>=2.21.0->tensorflow) (2024.2.2)\n",
      "Requirement already satisfied: markdown>=2.6.8 in /home/mirai/.pyenv/versions/3.12.0/lib/python3.12/site-packages (from tensorboard<2.17,>=2.16->tensorflow) (3.6)\n",
      "Requirement already satisfied: tensorboard-data-server<0.8.0,>=0.7.0 in /home/mirai/.pyenv/versions/3.12.0/lib/python3.12/site-packages (from tensorboard<2.17,>=2.16->tensorflow) (0.7.2)\n",
      "Requirement already satisfied: werkzeug>=1.0.1 in /home/mirai/.pyenv/versions/3.12.0/lib/python3.12/site-packages (from tensorboard<2.17,>=2.16->tensorflow) (3.0.3)\n",
      "Requirement already satisfied: filelock in /home/mirai/.pyenv/versions/3.12.0/lib/python3.12/site-packages (from torch>=1.13->stable-baselines3) (3.14.0)\n",
      "Requirement already satisfied: sympy in /home/mirai/.pyenv/versions/3.12.0/lib/python3.12/site-packages (from torch>=1.13->stable-baselines3) (1.12)\n",
      "Requirement already satisfied: networkx in /home/mirai/.pyenv/versions/3.12.0/lib/python3.12/site-packages (from torch>=1.13->stable-baselines3) (3.3)\n",
      "Requirement already satisfied: jinja2 in /home/mirai/.pyenv/versions/3.12.0/lib/python3.12/site-packages (from torch>=1.13->stable-baselines3) (3.1.4)\n",
      "Requirement already satisfied: fsspec in /home/mirai/.pyenv/versions/3.12.0/lib/python3.12/site-packages (from torch>=1.13->stable-baselines3) (2024.3.1)\n",
      "Requirement already satisfied: nvidia-cuda-nvrtc-cu12==12.1.105 in /home/mirai/.pyenv/versions/3.12.0/lib/python3.12/site-packages (from torch>=1.13->stable-baselines3) (12.1.105)\n",
      "Requirement already satisfied: nvidia-cuda-runtime-cu12==12.1.105 in /home/mirai/.pyenv/versions/3.12.0/lib/python3.12/site-packages (from torch>=1.13->stable-baselines3) (12.1.105)\n",
      "Requirement already satisfied: nvidia-cuda-cupti-cu12==12.1.105 in /home/mirai/.pyenv/versions/3.12.0/lib/python3.12/site-packages (from torch>=1.13->stable-baselines3) (12.1.105)\n",
      "Requirement already satisfied: nvidia-cudnn-cu12==8.9.2.26 in /home/mirai/.pyenv/versions/3.12.0/lib/python3.12/site-packages (from torch>=1.13->stable-baselines3) (8.9.2.26)\n",
      "Requirement already satisfied: nvidia-cublas-cu12==12.1.3.1 in /home/mirai/.pyenv/versions/3.12.0/lib/python3.12/site-packages (from torch>=1.13->stable-baselines3) (12.1.3.1)\n",
      "Requirement already satisfied: nvidia-cufft-cu12==11.0.2.54 in /home/mirai/.pyenv/versions/3.12.0/lib/python3.12/site-packages (from torch>=1.13->stable-baselines3) (11.0.2.54)\n",
      "Requirement already satisfied: nvidia-curand-cu12==10.3.2.106 in /home/mirai/.pyenv/versions/3.12.0/lib/python3.12/site-packages (from torch>=1.13->stable-baselines3) (10.3.2.106)\n",
      "Requirement already satisfied: nvidia-cusolver-cu12==11.4.5.107 in /home/mirai/.pyenv/versions/3.12.0/lib/python3.12/site-packages (from torch>=1.13->stable-baselines3) (11.4.5.107)\n",
      "Requirement already satisfied: nvidia-cusparse-cu12==12.1.0.106 in /home/mirai/.pyenv/versions/3.12.0/lib/python3.12/site-packages (from torch>=1.13->stable-baselines3) (12.1.0.106)\n",
      "Requirement already satisfied: nvidia-nccl-cu12==2.20.5 in /home/mirai/.pyenv/versions/3.12.0/lib/python3.12/site-packages (from torch>=1.13->stable-baselines3) (2.20.5)\n",
      "Requirement already satisfied: nvidia-nvtx-cu12==12.1.105 in /home/mirai/.pyenv/versions/3.12.0/lib/python3.12/site-packages (from torch>=1.13->stable-baselines3) (12.1.105)\n",
      "Requirement already satisfied: nvidia-nvjitlink-cu12 in /home/mirai/.pyenv/versions/3.12.0/lib/python3.12/site-packages (from nvidia-cusolver-cu12==11.4.5.107->torch>=1.13->stable-baselines3) (12.4.127)\n",
      "Requirement already satisfied: contourpy>=1.0.1 in /home/mirai/.pyenv/versions/3.12.0/lib/python3.12/site-packages (from matplotlib->stable-baselines3) (1.2.1)\n",
      "Requirement already satisfied: cycler>=0.10 in /home/mirai/.pyenv/versions/3.12.0/lib/python3.12/site-packages (from matplotlib->stable-baselines3) (0.12.1)\n",
      "Requirement already satisfied: fonttools>=4.22.0 in /home/mirai/.pyenv/versions/3.12.0/lib/python3.12/site-packages (from matplotlib->stable-baselines3) (4.51.0)\n",
      "Requirement already satisfied: kiwisolver>=1.3.1 in /home/mirai/.pyenv/versions/3.12.0/lib/python3.12/site-packages (from matplotlib->stable-baselines3) (1.4.5)\n",
      "Requirement already satisfied: pillow>=8 in /home/mirai/.pyenv/versions/3.12.0/lib/python3.12/site-packages (from matplotlib->stable-baselines3) (10.3.0)\n",
      "Requirement already satisfied: pyparsing>=2.3.1 in /home/mirai/.pyenv/versions/3.12.0/lib/python3.12/site-packages (from matplotlib->stable-baselines3) (3.1.2)\n",
      "Requirement already satisfied: python-dateutil>=2.7 in /home/mirai/.pyenv/versions/3.12.0/lib/python3.12/site-packages (from matplotlib->stable-baselines3) (2.9.0.post0)\n",
      "Requirement already satisfied: pytz>=2020.1 in /home/mirai/.pyenv/versions/3.12.0/lib/python3.12/site-packages (from pandas->stable-baselines3) (2024.1)\n",
      "Requirement already satisfied: tzdata>=2022.7 in /home/mirai/.pyenv/versions/3.12.0/lib/python3.12/site-packages (from pandas->stable-baselines3) (2024.1)\n",
      "Requirement already satisfied: MarkupSafe>=2.1.1 in /home/mirai/.pyenv/versions/3.12.0/lib/python3.12/site-packages (from werkzeug>=1.0.1->tensorboard<2.17,>=2.16->tensorflow) (2.1.5)\n",
      "Requirement already satisfied: markdown-it-py>=2.2.0 in /home/mirai/.pyenv/versions/3.12.0/lib/python3.12/site-packages (from rich->keras>=3.0.0->tensorflow) (3.0.0)\n",
      "Requirement already satisfied: pygments<3.0.0,>=2.13.0 in /home/mirai/.pyenv/versions/3.12.0/lib/python3.12/site-packages (from rich->keras>=3.0.0->tensorflow) (2.18.0)\n",
      "Requirement already satisfied: mpmath>=0.19 in /home/mirai/.pyenv/versions/3.12.0/lib/python3.12/site-packages (from sympy->torch>=1.13->stable-baselines3) (1.3.0)\n",
      "Requirement already satisfied: mdurl~=0.1 in /home/mirai/.pyenv/versions/3.12.0/lib/python3.12/site-packages (from markdown-it-py>=2.2.0->rich->keras>=3.0.0->tensorflow) (0.1.2)\n",
      "Note: you may need to restart the kernel to use updated packages.\n"
     ]
    }
   ],
   "source": [
    "%pip install tensorflow stable-baselines3 gymnasium 'gymnasium[box2d]'"
   ]
  },
  {
   "cell_type": "markdown",
   "metadata": {},
   "source": [
    "## Import Dependencies"
   ]
  },
  {
   "cell_type": "code",
   "execution_count": 2,
   "metadata": {},
   "outputs": [
    {
     "name": "stderr",
     "output_type": "stream",
     "text": [
      "2024-05-14 23:11:35.347958: I tensorflow/core/platform/cpu_feature_guard.cc:210] This TensorFlow binary is optimized to use available CPU instructions in performance-critical operations.\n",
      "To enable the following instructions: AVX2 FMA, in other operations, rebuild TensorFlow with the appropriate compiler flags.\n",
      "2024-05-14 23:11:37.006928: W tensorflow/compiler/tf2tensorrt/utils/py_utils.cc:38] TF-TRT Warning: Could not find TensorRT\n"
     ]
    }
   ],
   "source": [
    "import gymnasium as gym\n",
    "from stable_baselines3 import PPO\n",
    "from stable_baselines3.common.env_util import make_vec_env\n",
    "from stable_baselines3.common.evaluation import evaluate_policy"
   ]
  },
  {
   "cell_type": "markdown",
   "metadata": {},
   "source": [
    "## Test Random Environment"
   ]
  },
  {
   "cell_type": "code",
   "execution_count": 3,
   "metadata": {},
   "outputs": [],
   "source": [
    "environment_name = 'LunarLander-v2'\n",
    "env = gym.make(environment_name, render_mode=\"human\")\n",
    "observation, info = env.reset(seed=42)\n",
    "\n",
    "for _ in range(5):\n",
    "    action = env.action_space.sample()\n",
    "    observation, reward, terminated, truncated, info = env.step(action)\n",
    "\n",
    "    if terminated or truncated:\n",
    "        observation, info = env.reset()\n",
    "        \n",
    "env.close()"
   ]
  },
  {
   "cell_type": "markdown",
   "metadata": {},
   "source": [
    "## Build Model"
   ]
  },
  {
   "cell_type": "code",
   "execution_count": 4,
   "metadata": {},
   "outputs": [
    {
     "name": "stdout",
     "output_type": "stream",
     "text": [
      "Using cpu device\n",
      "---------------------------------\n",
      "| rollout/           |          |\n",
      "|    ep_len_mean     | 90.3     |\n",
      "|    ep_rew_mean     | -168     |\n",
      "| time/              |          |\n",
      "|    fps             | 1514     |\n",
      "|    iterations      | 1        |\n",
      "|    time_elapsed    | 5        |\n",
      "|    total_timesteps | 8192     |\n",
      "---------------------------------\n",
      "-----------------------------------------\n",
      "| rollout/                |             |\n",
      "|    ep_len_mean          | 96.7        |\n",
      "|    ep_rew_mean          | -170        |\n",
      "| time/                   |             |\n",
      "|    fps                  | 995         |\n",
      "|    iterations           | 2           |\n",
      "|    time_elapsed         | 16          |\n",
      "|    total_timesteps      | 16384       |\n",
      "| train/                  |             |\n",
      "|    approx_kl            | 0.006410094 |\n",
      "|    clip_fraction        | 0.0324      |\n",
      "|    clip_range           | 0.2         |\n",
      "|    entropy_loss         | -1.38       |\n",
      "|    explained_variance   | -0.000416   |\n",
      "|    learning_rate        | 0.0003      |\n",
      "|    loss                 | 539         |\n",
      "|    n_updates            | 10          |\n",
      "|    policy_gradient_loss | -0.00573    |\n",
      "|    value_loss           | 1.17e+03    |\n",
      "-----------------------------------------\n",
      "-----------------------------------------\n",
      "| rollout/                |             |\n",
      "|    ep_len_mean          | 105         |\n",
      "|    ep_rew_mean          | -146        |\n",
      "| time/                   |             |\n",
      "|    fps                  | 793         |\n",
      "|    iterations           | 3           |\n",
      "|    time_elapsed         | 30          |\n",
      "|    total_timesteps      | 24576       |\n",
      "| train/                  |             |\n",
      "|    approx_kl            | 0.010037067 |\n",
      "|    clip_fraction        | 0.0746      |\n",
      "|    clip_range           | 0.2         |\n",
      "|    entropy_loss         | -1.36       |\n",
      "|    explained_variance   | 0.169       |\n",
      "|    learning_rate        | 0.0003      |\n",
      "|    loss                 | 185         |\n",
      "|    n_updates            | 20          |\n",
      "|    policy_gradient_loss | -0.00795    |\n",
      "|    value_loss           | 616         |\n",
      "-----------------------------------------\n",
      "-----------------------------------------\n",
      "| rollout/                |             |\n",
      "|    ep_len_mean          | 102         |\n",
      "|    ep_rew_mean          | -124        |\n",
      "| time/                   |             |\n",
      "|    fps                  | 771         |\n",
      "|    iterations           | 4           |\n",
      "|    time_elapsed         | 42          |\n",
      "|    total_timesteps      | 32768       |\n",
      "| train/                  |             |\n",
      "|    approx_kl            | 0.010080645 |\n",
      "|    clip_fraction        | 0.0837      |\n",
      "|    clip_range           | 0.2         |\n",
      "|    entropy_loss         | -1.34       |\n",
      "|    explained_variance   | 0.134       |\n",
      "|    learning_rate        | 0.0003      |\n",
      "|    loss                 | 111         |\n",
      "|    n_updates            | 30          |\n",
      "|    policy_gradient_loss | -0.00774    |\n",
      "|    value_loss           | 364         |\n",
      "-----------------------------------------\n"
     ]
    },
    {
     "data": {
      "text/plain": [
       "<stable_baselines3.ppo.ppo.PPO at 0x7f9f986378c0>"
      ]
     },
     "execution_count": 4,
     "metadata": {},
     "output_type": "execute_result"
    }
   ],
   "source": [
    "vec_env = make_vec_env(environment_name, n_envs=4)\n",
    "\n",
    "model = PPO(\"MlpPolicy\", vec_env, verbose=1)\n",
    "model.learn(total_timesteps=25000)"
   ]
  },
  {
   "cell_type": "markdown",
   "metadata": {},
   "source": [
    "## Evaluate Model"
   ]
  },
  {
   "cell_type": "code",
   "execution_count": 5,
   "metadata": {},
   "outputs": [],
   "source": [
    "evaluate_policy(model, vec_env, n_eval_episodes=10, render=True)\n",
    "vec_env.close()"
   ]
  },
  {
   "cell_type": "markdown",
   "metadata": {},
   "source": [
    "## Save Model"
   ]
  },
  {
   "cell_type": "code",
   "execution_count": 6,
   "metadata": {},
   "outputs": [],
   "source": [
    "model.save(\"lunar_lander.keras\")"
   ]
  }
 ],
 "metadata": {
  "kernelspec": {
   "display_name": "Python 3",
   "language": "python",
   "name": "python3"
  },
  "language_info": {
   "codemirror_mode": {
    "name": "ipython",
    "version": 3
   },
   "file_extension": ".py",
   "mimetype": "text/x-python",
   "name": "python",
   "nbconvert_exporter": "python",
   "pygments_lexer": "ipython3",
   "version": "3.12.0"
  }
 },
 "nbformat": 4,
 "nbformat_minor": 2
}
